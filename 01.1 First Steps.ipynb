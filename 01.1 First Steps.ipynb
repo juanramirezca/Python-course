{
 "cells": [
  {
   "cell_type": "markdown",
   "id": "9801ac10",
   "metadata": {},
   "source": [
    "# <center> First Steps </center>"
   ]
  },
  {
   "cell_type": "markdown",
   "id": "1617424f",
   "metadata": {},
   "source": [
    "**In this file we will see how to Install Python, Anaconda and some useful shortcuts to use better Jupyter**\n",
    "1. Anaconda installation\n",
    "2. Python installation\n",
    "3. Jupyter useful shortcuts"
   ]
  },
  {
   "cell_type": "markdown",
   "id": "85c7d37c",
   "metadata": {},
   "source": [
    "* **How to install Anaconda**:\n",
    "<br> To install Anaconda for Windows:\n",
    "<br>https://www.anaconda.com/products/individual#windows\n",
    "<br> To install Anaconda for Mac:\n",
    "<br>https://docs.anaconda.com/anaconda/install/mac-os/\n",
    "<br>\n",
    "<br>\n",
    "* **How to install the latest version of Python**:\n",
    "<br> To install Python in Windows:\n",
    "<br>https://phoenixnap.com/kb/how-to-install-python-3-windows\n",
    "<br> To install Python in Mac:\n",
    "<br>https://www.python.org/downloads\n"
   ]
  },
  {
   "cell_type": "markdown",
   "id": "aa004919",
   "metadata": {},
   "source": [
    "## <p style=\"color:blue;text-align:left;\">Some useful shortcuts</p> \n",
    "\n",
    "Now, we will see some of the most useful shortcuts in Jupyter\n",
    "\n",
    "<table>\n",
    "    <tr>\n",
    "        <th><center> Function </center></th>\n",
    "        <th><center> Shortcut </center></th>\n",
    "    </tr>\n",
    "    <tr>\n",
    "        <td> <p style=\"text-align:left;\"> Suggestion about variables and methods </p></td>\n",
    "        <td> <p style=\"color:blue;text-align:left;\">tab</p> </td>\n",
    "    </tr>\n",
    "    <tr>\n",
    "        <td> <p style=\"text-align:left;\"> Information about a function </p></td>\n",
    "        <td> <p style=\"color:blue;text-align:left;\">shift + tab</p> </td>\n",
    "    </tr>\n",
    "    <tr>\n",
    "        <td> <p style=\"text-align:left;\"> To run a cell </p></td>\n",
    "        <td> <p style=\"color:blue;text-align:left;\">shift + enter</p> </td>\n",
    "    </tr>\n",
    "    <tr>\n",
    "        <td> <p style=\"text-align:left;\"> To use command mode</p></td>\n",
    "        <td> <p style=\"color:blue;text-align:left;\">esc</p> </td>\n",
    "    </tr>\n",
    "    <tr>\n",
    "</table>"
   ]
  },
  {
   "cell_type": "markdown",
   "id": "7aeac683",
   "metadata": {},
   "source": [
    "## <p style=\"color:blue;text-align:left;\">In command mode ...</p> \n",
    "\n",
    "Once in \"command mode\", press any of the following shortcuts.\n",
    "<table>\n",
    "    <tr>\n",
    "        <th><center> Function </center></th>\n",
    "        <th><center> Shortcut </center></th>\n",
    "    </tr>\n",
    "    <tr>\n",
    "        <td> <p style= \"text-align:left;\"> To insert a new cell above </p></td>\n",
    "        <td> <p style=\"color:blue;text-align:center\">a</p> </td>\n",
    "    </tr>\n",
    "    <tr>\n",
    "        <td> <p style= \"text-align:left;\"> To insert a new cell below </p></td>\n",
    "        <td> <p style=\"color:blue;text-align:center\">b</p> </td>\n",
    "    </tr>\n",
    "    <tr>\n",
    "        <td> <p style= \"text-align:left;\"> To copy a specific cell </p></td>\n",
    "        <td> <p style=\"color:blue;text-align:center\">c</p> </td>\n",
    "    </tr>\n",
    "    <tr>\n",
    "        <td> <p style= \"text-align:left;\"> To paste the copied cell </p></td>\n",
    "        <td> <p style=\"color:blue;text-align:center\">v</p> </td>\n",
    "    </tr>\n",
    "    <tr>\n",
    "        <td> <p style= \"text-align:left;\"> To cut a cell </p></td>\n",
    "        <td> <p style=\"color:blue;text-align:center\">x</p> </td>\n",
    "    </tr>\n",
    "    <tr>\n",
    "        <td> <p style= \"text-align:left;\"> Change to markdown mode </p></td>\n",
    "        <td> <p style=\"color:blue;text-align:center\">m</p> </td>\n",
    "    </tr>\n",
    "    <tr>\n",
    "        <td> <p style= \"text-align:left;\"> Change to code mode </p></td>\n",
    "        <td> <p style=\"color:blue;text-align:center\">y</p> </td>\n",
    "    </tr>\n",
    "    <tr>\n",
    "        <td> <p style= \"text-align:left;\"> To write headings </p></td>\n",
    "        <td> <p style=\"color:blue;text-align:center\">#</p> </td>\n",
    "    </tr>\n",
    "</table>"
   ]
  },
  {
   "cell_type": "markdown",
   "id": "763ab4d1",
   "metadata": {},
   "source": [
    "Numero real $$\\mathbb R$$ -> \\doubleR\n",
    "Desigual $$\\neq$$ -> \\neq\n",
    "Conjunto vacio $$\\emptyset$$ -> \\emptyset\n",
    "Para todo $$\\forall$$ -> \\forall\n",
    "Pertenece $$\\in$$ -> \\in\n",
    "Existe $$\\exists $$ -> \\exists\n",
    "Tal que $$\\mid$$ -> \\mid\n",
    "Infinito $$\\infty$$ -> \\infty"
   ]
  },
  {
   "cell_type": "code",
   "execution_count": null,
   "id": "97ca6ded",
   "metadata": {},
   "outputs": [],
   "source": []
  }
 ],
 "metadata": {
  "kernelspec": {
   "display_name": "Python 3",
   "language": "python",
   "name": "python3"
  },
  "language_info": {
   "codemirror_mode": {
    "name": "ipython",
    "version": 3
   },
   "file_extension": ".py",
   "mimetype": "text/x-python",
   "name": "python",
   "nbconvert_exporter": "python",
   "pygments_lexer": "ipython3",
   "version": "3.8.8"
  }
 },
 "nbformat": 4,
 "nbformat_minor": 5
}
